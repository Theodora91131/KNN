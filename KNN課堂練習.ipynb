{
  "nbformat": 4,
  "nbformat_minor": 0,
  "metadata": {
    "colab": {
      "name": "Untitled0.ipynb",
      "provenance": [],
      "collapsed_sections": []
    },
    "kernelspec": {
      "name": "python3",
      "display_name": "Python 3"
    }
  },
  "cells": [
    {
      "cell_type": "code",
      "metadata": {
        "id": "Px9eFWQjRzbW",
        "colab_type": "code",
        "colab": {}
      },
      "source": [
        "# 產生資料\n",
        "import numpy as np #科學運算\n",
        "import matplotlib.pyplot as plt #繪圖工具\n",
        "from matplotlib.colors import ListedColormap #上色工具\n",
        "from sklearn import neighbors, datasets\n",
        "\n",
        "from sklearn.datasets.samples_generator import make_classification #X為樣本特徵,y\n",
        "X, y = make_classification(n_samples = 2, n_features = 2,  n_informative=2, n_redundant = 0, n_classes = 2) # n_classes為類別, n_informative為資訊量; n_informative, n_redundant, n_repeated總和要小於n_feature"
      ],
      "execution_count": 172,
      "outputs": []
    },
    {
      "cell_type": "code",
      "metadata": {
        "id": "mynQLr8gWA8x",
        "colab_type": "code",
        "colab": {
          "base_uri": "https://localhost:8080/",
          "height": 50
        },
        "outputId": "075745c8-470c-4667-df50-9c6ff07b9346"
      },
      "source": [
        "X #顯示出隨機產生的座標\n"
      ],
      "execution_count": 173,
      "outputs": [
        {
          "output_type": "execute_result",
          "data": {
            "text/plain": [
              "array([[ 1.27699105, -0.55026027],\n",
              "       [-0.00463366, -0.99149209]])"
            ]
          },
          "metadata": {
            "tags": []
          },
          "execution_count": 173
        }
      ]
    },
    {
      "cell_type": "code",
      "metadata": {
        "id": "F8iSWhfHZyhY",
        "colab_type": "code",
        "colab": {
          "base_uri": "https://localhost:8080/",
          "height": 34
        },
        "outputId": "4c352106-3abb-43c6-d46c-83fa0d826212"
      },
      "source": [
        "y #兩點各代表一個類別,第一類用\"0\"表示,第二類用\"1\"表示"
      ],
      "execution_count": 174,
      "outputs": [
        {
          "output_type": "execute_result",
          "data": {
            "text/plain": [
              "array([1, 0])"
            ]
          },
          "metadata": {
            "tags": []
          },
          "execution_count": 174
        }
      ]
    },
    {
      "cell_type": "code",
      "metadata": {
        "id": "hXR9valCaJ-1",
        "colab_type": "code",
        "colab": {
          "base_uri": "https://localhost:8080/",
          "height": 265
        },
        "outputId": "7a80eb16-b636-4d25-9a93-a0ad55a29cee"
      },
      "source": [
        "# 使用KNN分類\n",
        "clf = neighbors.KNeighborsClassifier(n_neighbors = 1) #建立模型設定K值是基數 因為KNN採多數決 基數較好分類\n",
        "clf.fit(X, y) #用KNN來擬合模型,我們選擇K=1，權重為距離遠近\n",
        "h = 0.02 #網路中的步長 確認訓練集的邊界 生成隨機數據來做測試集, 然後做預測\n",
        "x_min, x_max = X[:, 0].min()-0.1 ,X[:, 0].max()+0.1 #算出x軸所有可能的範圍\n",
        "y_min, y_max = X[:, 1].min()-0.1 ,X[:, 1].max()+0.1\n",
        "xx, yy = np.meshgrid(np.arange(x_min, x_max, h), np.arange(y_min, y_max, h)) #建立取樣點 生成以某點為中心指定半徑内 輸入的x，y，就是網格點的橫縱座標列向量（非矩陣）輸出的X，Y，就是座標矩陣\n",
        "#計算所有資料到K的距離\n",
        "plt.scatter(X[:,0], X[:,1], marker='o', c=y)\n",
        "plt.xlim(xx.min(), xx.max()) #顯示x\n",
        "plt.ylim(yy.min(), yy.max()) #顯示y\n",
        "plt.show() #根據隨機生成樣本不同，圖形也不同"
      ],
      "execution_count": 175,
      "outputs": [
        {
          "output_type": "display_data",
          "data": {
            "image/png": "[encoded data removed]",
            "text/plain": [
              "<Figure size 432x288 with 1 Axes>"
            ]
          },
          "metadata": {
            "tags": [],
            "needs_background": "light"
          }
        }
      ]
    },
    {
      "cell_type": "code",
      "metadata": {
        "id": "l91q7TwBv47W",
        "colab_type": "code",
        "colab": {
          "base_uri": "https://localhost:8080/",
          "height": 265
        },
        "outputId": "13b90e7d-d7a8-4eb9-bbd7-44cf0ecfca2d"
      },
      "source": [
        "plt.scatter(xx[:], yy[:], marker = 'o')\n",
        "plt.xlim(xx.min(), xx.max())\n",
        "plt.ylim(yy.min(), yy.max())\n",
        "plt.show() #根據隨機生成樣本不同，圖形也不同"
      ],
      "execution_count": 176,
      "outputs": [
        {
          "output_type": "display_data",
          "data": {
            "image/png": "[encoded data removed]",
            "text/plain": [
              "<Figure size 432x288 with 1 Axes>"
            ]
          },
          "metadata": {
            "tags": [],
            "needs_background": "light"
          }
        }
      ]
    },
    {
      "cell_type": "code",
      "metadata": {
        "id": "31-eZDR02nJJ",
        "colab_type": "code",
        "colab": {
          "base_uri": "https://localhost:8080/",
          "height": 235
        },
        "outputId": "4aff2b0c-bb76-41d9-e271-b7222ed582c1"
      },
      "source": [
        "xx #結果顯示 每個點與每個點間差 h=0.02 ;此結果顯示x每次重新產出可能的範圍 新的x產出後將在這個範圍內"
      ],
      "execution_count": 177,
      "outputs": [
        {
          "output_type": "execute_result",
          "data": {
            "text/plain": [
              "array([[-0.10463366, -0.08463366, -0.06463366, ...,  1.33536634,\n",
              "         1.35536634,  1.37536634],\n",
              "       [-0.10463366, -0.08463366, -0.06463366, ...,  1.33536634,\n",
              "         1.35536634,  1.37536634],\n",
              "       [-0.10463366, -0.08463366, -0.06463366, ...,  1.33536634,\n",
              "         1.35536634,  1.37536634],\n",
              "       ...,\n",
              "       [-0.10463366, -0.08463366, -0.06463366, ...,  1.33536634,\n",
              "         1.35536634,  1.37536634],\n",
              "       [-0.10463366, -0.08463366, -0.06463366, ...,  1.33536634,\n",
              "         1.35536634,  1.37536634],\n",
              "       [-0.10463366, -0.08463366, -0.06463366, ...,  1.33536634,\n",
              "         1.35536634,  1.37536634]])"
            ]
          },
          "metadata": {
            "tags": []
          },
          "execution_count": 177
        }
      ]
    },
    {
      "cell_type": "code",
      "metadata": {
        "id": "kDUnmP2mLRkO",
        "colab_type": "code",
        "colab": {}
      },
      "source": [
        "#Create color maps\n",
        "cmap_light = ListedColormap(['#FFAAAA', '#AAAAFF']) #給不同的區域賦以顏色\n",
        "cmap_bold = ListedColormap(['r', 'b']) #給不同的屬性的點顏色 將預測結果在平面座標顯示"
      ],
      "execution_count": 178,
      "outputs": []
    },
    {
      "cell_type": "code",
      "metadata": {
        "id": "9sT_BvelFuLg",
        "colab_type": "code",
        "colab": {
          "base_uri": "https://localhost:8080/",
          "height": 265
        },
        "outputId": "f56097c3-4992-4b1f-ed26-2da2eb4daaaa"
      },
      "source": [
        "#Create color maps\n",
        "cmap_light = ListedColormap(['#FFAAAA', '#AAAAFF']) #給不同的區域賦以顏色\n",
        "cmap_bold = ListedColormap(['r', 'b']) #給不同的屬性的點顏色 將預測結果在平面座標顯示\n",
        "Z = clf.predict(np.c_[xx.ravel(), yy.ravel()])#模型預測\n",
        "Z = Z.reshape(xx.shape)\n",
        "plt.figure()\n",
        "plt.pcolormesh(xx, yy, Z, cmap = cmap_light) #也畫出所有的訓練數據\n",
        "plt.scatter(X[:, 0], X[:, 1], c=y, cmap = cmap_bold)\n",
        "plt.xlim(xx.min(), xx.max())\n",
        "plt.ylim(yy.min(), yy.max())\n",
        "plt.show()"
      ],
      "execution_count": 179,
      "outputs": [
        {
          "output_type": "display_data",
          "data": {
            "image/png": "[encoded data removed]",
            "text/plain": [
              "<Figure size 432x288 with 1 Axes>"
            ]
          },
          "metadata": {
            "tags": [],
            "needs_background": "light"
          }
        }
      ]
    },
    {
      "cell_type": "code",
      "metadata": {
        "id": "BI6XwvTuNBbJ",
        "colab_type": "code",
        "colab": {}
      },
      "source": [
        ""
      ],
      "execution_count": 179,
      "outputs": []
    }
  ]
}