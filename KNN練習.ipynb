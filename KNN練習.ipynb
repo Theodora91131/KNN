{
  "nbformat": 4,
  "nbformat_minor": 0,
  "metadata": {
    "colab": {
      "name": "Untitled0.ipynb",
      "provenance": [],
      "collapsed_sections": []
    },
    "kernelspec": {
      "name": "python3",
      "display_name": "Python 3"
    }
  },
  "cells": [
    {
      "cell_type": "code",
      "metadata": {
        "id": "Px9eFWQjRzbW",
        "colab_type": "code",
        "colab": {}
      },
      "source": [
        "# 產生資料\n",
        "import numpy as np #科學運算\n",
        "import matplotlib.pyplot as plt #繪圖工具\n",
        "from matplotlib.colors import ListedColormap #上色工具\n",
        "from sklearn import neighbors, datasets\n",
        "\n",
        "from sklearn.datasets.samples_generator import make_classification #X為樣本特徵,y\n",
        "X, y = make_classification(n_samples = 2, n_features = 5, n_clusters_per_class=3, n_informative=4, n_redundant = 0, n_classes = 2) # n_classes為類別, n_informative為資訊量; n_informative, n_redundant, n_repeated總和要小於n_feature"
      ],
      "execution_count": 118,
      "outputs": []
    },
    {
      "cell_type": "code",
      "metadata": {
        "id": "mynQLr8gWA8x",
        "colab_type": "code",
        "colab": {
          "base_uri": "https://localhost:8080/",
          "height": 50
        },
        "outputId": "45f47029-9a2b-49ad-85d1-70039a627b6e"
      },
      "source": [
        "X #顯示出隨機產生的座標\n"
      ],
      "execution_count": 119,
      "outputs": [
        {
          "output_type": "execute_result",
          "data": {
            "text/plain": [
              "array([[ 1.25484092,  1.01355822, -1.13663589, -1.73244009,  0.38624487],\n",
              "       [ 0.71277811, -1.95265468, -0.71007622,  0.31031893, -2.2518505 ]])"
            ]
          },
          "metadata": {
            "tags": []
          },
          "execution_count": 119
        }
      ]
    },
    {
      "cell_type": "code",
      "metadata": {
        "id": "F8iSWhfHZyhY",
        "colab_type": "code",
        "colab": {
          "base_uri": "https://localhost:8080/",
          "height": 34
        },
        "outputId": "0ae39942-9b11-4de4-fb39-526cd29667db"
      },
      "source": [
        "y #兩點各代表一個類別,第一類用\"0\"表示,第二類用\"1\"表示"
      ],
      "execution_count": 120,
      "outputs": [
        {
          "output_type": "execute_result",
          "data": {
            "text/plain": [
              "array([0, 1])"
            ]
          },
          "metadata": {
            "tags": []
          },
          "execution_count": 120
        }
      ]
    },
    {
      "cell_type": "code",
      "metadata": {
        "id": "hXR9valCaJ-1",
        "colab_type": "code",
        "colab": {
          "base_uri": "https://localhost:8080/",
          "height": 265
        },
        "outputId": "9d8da84e-583f-4e6d-bbc6-5e1c5558e78c"
      },
      "source": [
        "# 使用KNN分類\n",
        "clf = neighbors.KNeighborsClassifier(n_neighbors = 1) #建立模型設定K值是基數 因為KNN採多數決 基數較好分類\n",
        "clf.fit(X, y) #用KNN來擬合模型,我們選擇K=1，權重為距離遠近\n",
        "h = 0.02 #網路中的步長 確認訓練集的邊界 生成隨機數據來做測試集, 然後做預測\n",
        "x_min, x_max = X[:, 0].min()-0.1 ,X[:, 0].max()+0.1\n",
        "y_min, y_max = X[:, 1].min()-0.1 ,X[:, 1].max()+0.1\n",
        "xx, yy = np.meshgrid(np.arange(x_min, x_max, h), np.arange(y_min, y_max, h)) #建立取樣點\n",
        "\n",
        "plt.scatter(X[:,0], X[:,1], marker='o', c=y)\n",
        "plt.xlim(xx.min(), xx.max())\n",
        "plt.ylim(yy.min(), yy.max())\n",
        "plt.show() #根據隨機生成樣本不同，圖形也不同"
      ],
      "execution_count": 121,
      "outputs": [
        {
          "output_type": "display_data",
          "data": {
            "image/png": "[encoded data removed]",
            "text/plain": [
              "<Figure size 432x288 with 1 Axes>"
            ]
          },
          "metadata": {
            "tags": [],
            "needs_background": "light"
          }
        }
      ]
    },
    {
      "cell_type": "code",
      "metadata": {
        "id": "l91q7TwBv47W",
        "colab_type": "code",
        "colab": {
          "base_uri": "https://localhost:8080/",
          "height": 265
        },
        "outputId": "c4995090-c897-46fb-e4c1-19b08104b6f8"
      },
      "source": [
        "plt.scatter(xx[:], yy[:], marker = 'o')\n",
        "plt.xlim(xx.min(), xx.max())\n",
        "plt.ylim(yy.min(), yy.max())\n",
        "plt.show() #根據隨機生成樣本不同，圖形也不同"
      ],
      "execution_count": 122,
      "outputs": [
        {
          "output_type": "display_data",
          "data": {
            "image/png": "[encoded data removed]",
            "text/plain": [
              "<Figure size 432x288 with 1 Axes>"
            ]
          },
          "metadata": {
            "tags": [],
            "needs_background": "light"
          }
        }
      ]
    }
  ]
}