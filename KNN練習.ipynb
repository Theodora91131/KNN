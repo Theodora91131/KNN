{
  "nbformat": 4,
  "nbformat_minor": 0,
  "metadata": {
    "colab": {
      "name": "Untitled0.ipynb",
      "provenance": [],
      "collapsed_sections": []
    },
    "kernelspec": {
      "name": "python3",
      "display_name": "Python 3"
    }
  },
  "cells": [
    {
      "cell_type": "code",
      "metadata": {
        "id": "Px9eFWQjRzbW",
        "colab_type": "code",
        "colab": {}
      },
      "source": [
        "# 產生資料\n",
        "import numpy as np #科學運算\n",
        "import matplotlib.pyplot as plt #繪圖工具\n",
        "from matplotlib.colors import ListedColormap #上色工具\n",
        "from sklearn import neighbors, datasets\n",
        "\n",
        "from sklearn.datasets.samples_generator import make_classification #X為樣本特徵,y\n",
        "X, y = make_classification(n_samples = 2, n_features = 2,  n_informative=2, n_redundant = 0, n_classes = 2) # n_classes為類別, n_informative為資訊量; n_informative, n_redundant, n_repeated總和要小於n_feature"
      ],
      "execution_count": 155,
      "outputs": []
    },
    {
      "cell_type": "code",
      "metadata": {
        "id": "mynQLr8gWA8x",
        "colab_type": "code",
        "colab": {
          "base_uri": "https://localhost:8080/",
          "height": 50
        },
        "outputId": "f8f8ede6-2dc8-4148-d094-a3e87ade0b47"
      },
      "source": [
        "X #顯示出隨機產生的座標\n"
      ],
      "execution_count": 156,
      "outputs": [
        {
          "output_type": "execute_result",
          "data": {
            "text/plain": [
              "array([[-2.16645543, -1.38982955],\n",
              "       [ 0.82084734, -1.05856643]])"
            ]
          },
          "metadata": {
            "tags": []
          },
          "execution_count": 156
        }
      ]
    },
    {
      "cell_type": "code",
      "metadata": {
        "id": "F8iSWhfHZyhY",
        "colab_type": "code",
        "colab": {
          "base_uri": "https://localhost:8080/",
          "height": 34
        },
        "outputId": "c9fbb45e-7d8f-447a-e068-0af7510de99a"
      },
      "source": [
        "y #兩點各代表一個類別,第一類用\"0\"表示,第二類用\"1\"表示"
      ],
      "execution_count": 157,
      "outputs": [
        {
          "output_type": "execute_result",
          "data": {
            "text/plain": [
              "array([0, 1])"
            ]
          },
          "metadata": {
            "tags": []
          },
          "execution_count": 157
        }
      ]
    },
    {
      "cell_type": "code",
      "metadata": {
        "id": "hXR9valCaJ-1",
        "colab_type": "code",
        "colab": {
          "base_uri": "https://localhost:8080/",
          "height": 265
        },
        "outputId": "23dc0b31-6179-4661-a981-a045d1bd95dc"
      },
      "source": [
        "# 使用KNN分類\n",
        "clf = neighbors.KNeighborsClassifier(n_neighbors = 1) #建立模型設定K值是基數 因為KNN採多數決 基數較好分類\n",
        "clf.fit(X, y) #用KNN來擬合模型,我們選擇K=1，權重為距離遠近\n",
        "h = 0.02 #網路中的步長 確認訓練集的邊界 生成隨機數據來做測試集, 然後做預測\n",
        "x_min, x_max = X[:, 0].min()-0.1 ,X[:, 0].max()+0.1 #算出x軸所有可能的範圍\n",
        "y_min, y_max = X[:, 1].min()-0.1 ,X[:, 1].max()+0.1\n",
        "xx, yy = np.meshgrid(np.arange(x_min, x_max, h), np.arange(y_min, y_max, h)) #建立取樣點 生成以某點為中心指定半徑内 輸入的x，y，就是網格點的橫縱座標列向量（非矩陣）輸出的X，Y，就是座標矩陣\n",
        "#計算所有資料到K的距離\n",
        "plt.scatter(X[:,0], X[:,1], marker='o', c=y)\n",
        "plt.xlim(xx.min(), xx.max()) #顯示x\n",
        "plt.ylim(yy.min(), yy.max()) #顯示y\n",
        "plt.show() #根據隨機生成樣本不同，圖形也不同"
      ],
      "execution_count": 158,
      "outputs": [
        {
          "output_type": "display_data",
          "data": {
            "image/png": "[encoded data removed]",
            "text/plain": [
              "<Figure size 432x288 with 1 Axes>"
            ]
          },
          "metadata": {
            "tags": [],
            "needs_background": "light"
          }
        }
      ]
    },
    {
      "cell_type": "code",
      "metadata": {
        "id": "l91q7TwBv47W",
        "colab_type": "code",
        "colab": {
          "base_uri": "https://localhost:8080/",
          "height": 265
        },
        "outputId": "d439b2b3-0542-42ca-e8cc-9c993cd2c84e"
      },
      "source": [
        "plt.scatter(xx[:], yy[:], marker = 'o')\n",
        "plt.xlim(xx.min(), xx.max())\n",
        "plt.ylim(yy.min(), yy.max())\n",
        "plt.show() #根據隨機生成樣本不同，圖形也不同"
      ],
      "execution_count": 159,
      "outputs": [
        {
          "output_type": "display_data",
          "data": {
            "image/png": "[encoded data removed]",
            "text/plain": [
              "<Figure size 432x288 with 1 Axes>"
            ]
          },
          "metadata": {
            "tags": [],
            "needs_background": "light"
          }
        }
      ]
    },
    {
      "cell_type": "code",
      "metadata": {
        "id": "31-eZDR02nJJ",
        "colab_type": "code",
        "colab": {
          "base_uri": "https://localhost:8080/",
          "height": 235
        },
        "outputId": "ff9c1512-8524-4e8b-9203-cc0b49a690a4"
      },
      "source": [
        "xx #結果顯示 每個點與每個點間差 h=0.02 ;此結果顯示x每次重新產出可能的範圍 新的x產出後將在這個範圍內"
      ],
      "execution_count": 160,
      "outputs": [
        {
          "output_type": "execute_result",
          "data": {
            "text/plain": [
              "array([[-2.26645543, -2.24645543, -2.22645543, ...,  0.87354457,\n",
              "         0.89354457,  0.91354457],\n",
              "       [-2.26645543, -2.24645543, -2.22645543, ...,  0.87354457,\n",
              "         0.89354457,  0.91354457],\n",
              "       [-2.26645543, -2.24645543, -2.22645543, ...,  0.87354457,\n",
              "         0.89354457,  0.91354457],\n",
              "       ...,\n",
              "       [-2.26645543, -2.24645543, -2.22645543, ...,  0.87354457,\n",
              "         0.89354457,  0.91354457],\n",
              "       [-2.26645543, -2.24645543, -2.22645543, ...,  0.87354457,\n",
              "         0.89354457,  0.91354457],\n",
              "       [-2.26645543, -2.24645543, -2.22645543, ...,  0.87354457,\n",
              "         0.89354457,  0.91354457]])"
            ]
          },
          "metadata": {
            "tags": []
          },
          "execution_count": 160
        }
      ]
    },
    {
      "cell_type": "code",
      "metadata": {
        "id": "kDUnmP2mLRkO",
        "colab_type": "code",
        "colab": {}
      },
      "source": [
        "#Create color maps\n",
        "cmap_light = ListedColormap(['#FFAAAA', '#AAAAFF']) #給不同的區域賦以顏色\n",
        "cmap_bold = ListedColormap(['r', 'b']) #給不同的屬性的點顏色 將預測結果在平面座標顯示"
      ],
      "execution_count": 161,
      "outputs": []
    },
    {
      "cell_type": "code",
      "metadata": {
        "id": "9sT_BvelFuLg",
        "colab_type": "code",
        "colab": {
          "base_uri": "https://localhost:8080/",
          "height": 265
        },
        "outputId": "5b8237db-2e71-419f-d83b-583ba0e202b0"
      },
      "source": [
        "#Create color maps\n",
        "cmap_light = ListedColormap(['#FFAAAA', '#AAAAFF']) #給不同的區域賦以顏色\n",
        "cmap_bold = ListedColormap(['r', 'b']) #給不同的屬性的點顏色 將預測結果在平面座標顯示\n",
        "Z = clf.predict(np.c_[xx.ravel(), yy.ravel()])#模型預測\n",
        "Z = Z.reshape(xx.shape)\n",
        "plt.figure()\n",
        "plt.pcolormesh(xx, yy, Z, cmap = cmap_light) #也畫出所有的訓練數據\n",
        "plt.scatter(X[:, 0], X[:, 1], c=y, cmap = cmap_bold)\n",
        "plt.xlim(xx.min(), xx.max())\n",
        "plt.ylim(yy.min(), yy.max())\n",
        "plt.show()"
      ],
      "execution_count": 163,
      "outputs": [
        {
          "output_type": "display_data",
          "data": {
            "image/png": "[encoded data removed]",
            "text/plain": [
              "<Figure size 432x288 with 1 Axes>"
            ]
          },
          "metadata": {
            "tags": [],
            "needs_background": "light"
          }
        }
      ]
    },
    {
      "cell_type": "code",
      "metadata": {
        "id": "BI6XwvTuNBbJ",
        "colab_type": "code",
        "colab": {}
      },
      "source": [
        ""
      ],
      "execution_count": null,
      "outputs": []
    }
  ]
}