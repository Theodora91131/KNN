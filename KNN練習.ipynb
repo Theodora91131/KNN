{
  "nbformat": 4,
  "nbformat_minor": 0,
  "metadata": {
    "colab": {
      "name": "Untitled0.ipynb",
      "provenance": [],
      "collapsed_sections": []
    },
    "kernelspec": {
      "name": "python3",
      "display_name": "Python 3"
    }
  },
  "cells": [
    {
      "cell_type": "code",
      "metadata": {
        "id": "Px9eFWQjRzbW",
        "colab_type": "code",
        "colab": {}
      },
      "source": [
        "import numpy as np #科學運算\n",
        "import matplotlib.pyplot as plt #繪圖工具\n",
        "from matplotlib.colors import ListedColormap #上色工具\n",
        "from sklearn import neighbors, datasets\n",
        "\n",
        "from sklearn.datasets.samples_generator import make_classification #X為樣本特徵,y\n",
        "X, y = make_classification(n_samples = 5, n_features = 4, n_informative=3, n_redundant = 0, n_classes = 3) # n_classes為類別, n_informative為資訊量, n_informative, n_redundant, n_repeated總和要小於n_feature"
      ],
      "execution_count": 71,
      "outputs": []
    },
    {
      "cell_type": "code",
      "metadata": {
        "id": "mynQLr8gWA8x",
        "colab_type": "code",
        "colab": {
          "base_uri": "https://localhost:8080/",
          "height": 101
        },
        "outputId": "8b37e84d-6c96-4fdb-9da9-6f513be92acc"
      },
      "source": [
        "X #顯示出隨機產生的座標\n"
      ],
      "execution_count": 72,
      "outputs": [
        {
          "output_type": "execute_result",
          "data": {
            "text/plain": [
              "array([[ 0.34329577,  0.986889  , -0.3966068 ,  0.83975487],\n",
              "       [ 0.08984198, -1.65983677, -1.68810303, -0.31531141],\n",
              "       [-2.14382341, -1.43736784,  0.25422729, -0.97026781],\n",
              "       [-1.12579919, -2.32765035, -0.72177797, -1.54793669],\n",
              "       [-0.1058921 , -1.42539573,  0.84722702, -0.84172949]])"
            ]
          },
          "metadata": {
            "tags": []
          },
          "execution_count": 72
        }
      ]
    },
    {
      "cell_type": "code",
      "metadata": {
        "id": "F8iSWhfHZyhY",
        "colab_type": "code",
        "colab": {
          "base_uri": "https://localhost:8080/",
          "height": 34
        },
        "outputId": "39ea2990-2bcd-4435-cf27-62ed3766cceb"
      },
      "source": [
        "y #兩點各代表一個類別,第一類用\"0\"表示,第二類用\"1\"表示"
      ],
      "execution_count": 73,
      "outputs": [
        {
          "output_type": "execute_result",
          "data": {
            "text/plain": [
              "array([0, 0, 1, 1, 2])"
            ]
          },
          "metadata": {
            "tags": []
          },
          "execution_count": 73
        }
      ]
    },
    {
      "cell_type": "code",
      "metadata": {
        "id": "hXR9valCaJ-1",
        "colab_type": "code",
        "colab": {
          "base_uri": "https://localhost:8080/",
          "height": 265
        },
        "outputId": "d4e03fbe-14d5-41d4-8fc3-63d4005bdb87"
      },
      "source": [
        "clf = neighbors.KNeighborsClassifier(n_neighbors = 1) #建立模型\n",
        "clf.fit(X, y) #用KNN來擬合模型,我們選擇K=1，權重為距離遠近\n",
        "h = 0.02 #網路中的步長 確認訓練集的邊界 生成隨機數據來做測試集, 然後做預測\n",
        "x_min, x_max = X[:, 0].min()-0.1 ,X[:, 0].max()+0.1\n",
        "y_min, y_max = X[:, 1].min()-0.1 ,X[:, 1].max()+0.1\n",
        "xx, yy = np.meshgrid(np.arange(x_min, x_max, h), np.arange(y_min, y_max, h)) #建立取樣點\n",
        "\n",
        "plt.scatter(X[:,0], X[:,1], marker='o', c=y)\n",
        "plt.xlim(xx.min(), xx.max())\n",
        "plt.ylim(yy.min(), yy.max())\n",
        "plt.show() #根據隨機生成樣本不同，圖形也不同"
      ],
      "execution_count": 74,
      "outputs": [
        {
          "output_type": "display_data",
          "data": {
            "image/png": "[encoded data removed]",
            "text/plain": [
              "<Figure size 432x288 with 1 Axes>"
            ]
          },
          "metadata": {
            "tags": [],
            "needs_background": "light"
          }
        }
      ]
    }
  ]
}